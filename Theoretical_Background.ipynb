{
 "cells": [
  {
   "cell_type": "code",
   "execution_count": 52,
   "metadata": {},
   "outputs": [],
   "source": [
    "import numpy as np\n",
    "import matplotlib\n",
    "import matplotlib.pyplot as plt\n",
    "import math\n",
    "\n",
    "font = {'size'   : 22}\n",
    "\n",
    "matplotlib.rc('font', **font)"
   ]
  },
  {
   "cell_type": "markdown",
   "metadata": {},
   "source": [
    "# Mathematik und Physik zur Fahrzeugelektrifizierung"
   ]
  },
  {
   "cell_type": "markdown",
   "metadata": {},
   "source": [
    "### Allgemein"
   ]
  },
  {
   "cell_type": "code",
   "execution_count": 30,
   "metadata": {},
   "outputs": [
    {
     "name": "stdout",
     "output_type": "stream",
     "text": [
      "Energie umwandlung: 7200000 Ws entspricht -> 2 kWh\n"
     ]
    }
   ],
   "source": [
    "# Energie Umwandlung\n",
    "E_ws = 7200000         # Ws\n",
    "E_kWh = E_ws/3600000 # kWh\n",
    "print('Energie umwandlung:', '{:.0f}'.format(E_ws), 'Ws entspricht ->', '{:.0f}'.format(E_kWh), 'kWh')"
   ]
  },
  {
   "cell_type": "code",
   "execution_count": 31,
   "metadata": {},
   "outputs": [
    {
     "name": "stdout",
     "output_type": "stream",
     "text": [
      "Eine Leistung von 180.00 PS entspricht -> 177.54 hp oder 132.39 kW\n"
     ]
    }
   ],
   "source": [
    "# Leistungs Umwandlung\n",
    "P_PS = 180           # PS\n",
    "P_hp = P_PS*0.98632  # hp\n",
    "P_kW = P_PS*0.735499 # kW\n",
    "print('Eine Leistung von', '{:.2f}'.format(P_PS),'PS entspricht ->', '{:.2f}'.format(P_hp), 'hp', 'oder', '{:.2f}'.format(P_kW), 'kW')"
   ]
  },
  {
   "cell_type": "code",
   "execution_count": 32,
   "metadata": {},
   "outputs": [
    {
     "name": "stdout",
     "output_type": "stream",
     "text": [
      "Leistung: 20.00 kW\n"
     ]
    }
   ],
   "source": [
    "# Leistung\n",
    "W = 50  # kWh\n",
    "t = 2.5 # h\n",
    "P = W/t # kW\n",
    "print('Leistung:', '{:.2f}'.format(P), 'kW')"
   ]
  },
  {
   "cell_type": "code",
   "execution_count": 33,
   "metadata": {},
   "outputs": [
    {
     "name": "stdout",
     "output_type": "stream",
     "text": [
      "Wirkungsgrad: 95.24 %\n"
     ]
    }
   ],
   "source": [
    "# Wirkungsgrad Leistung\n",
    "P_in = 21  # kW\n",
    "P_out = 20 # kW\n",
    "eta = P_out/P_in * 100\n",
    "print('Wirkungsgrad:', '{:.2f}'.format(eta), '%')"
   ]
  },
  {
   "cell_type": "code",
   "execution_count": 34,
   "metadata": {},
   "outputs": [
    {
     "name": "stdout",
     "output_type": "stream",
     "text": [
      "Wirkungsgrad: 71.43 %\n"
     ]
    }
   ],
   "source": [
    "# Wirkungsgrad Energie\n",
    "E_in = 70  # kW\n",
    "E_out = 50 # kW\n",
    "eta = E_out/E_in * 100\n",
    "print('Wirkungsgrad:', '{:.2f}'.format(eta), '%')"
   ]
  },
  {
   "cell_type": "code",
   "execution_count": 35,
   "metadata": {},
   "outputs": [
    {
     "name": "stdout",
     "output_type": "stream",
     "text": [
      "Wirkungsgrad: 66.47 %\n"
     ]
    }
   ],
   "source": [
    "# Gesamtwirkungsgrad\n",
    "eta_akk = 0.8   # Akkumulator\n",
    "eta_con = 0.95  # Motorcontroller\n",
    "eta_mot = 0.97  # Elektromotor\n",
    "eta_get = 0.92  # Getriebe\n",
    "eta_res = 0.98  # Restliche Mechanik bis Rad\n",
    "eta_tot = eta_akk * eta_con * eta_mot * eta_get * eta_res *100\n",
    "print('Wirkungsgrad:', '{:.2f}'.format(eta_tot), '%')"
   ]
  },
  {
   "cell_type": "markdown",
   "metadata": {},
   "source": [
    "### Elektrizität"
   ]
  },
  {
   "cell_type": "code",
   "execution_count": 36,
   "metadata": {},
   "outputs": [
    {
     "name": "stdout",
     "output_type": "stream",
     "text": [
      "Spannung: 230.37 V\n"
     ]
    }
   ],
   "source": [
    "# Elektrische Spannung\n",
    "I = 16.02   # A\n",
    "R = 14.38   # Ohm\n",
    "U = R * I\n",
    "print('Spannung:', '{:.2f}'.format(U), 'V')"
   ]
  },
  {
   "cell_type": "code",
   "execution_count": 37,
   "metadata": {},
   "outputs": [
    {
     "name": "stdout",
     "output_type": "stream",
     "text": [
      "Strom: 16.02 A\n"
     ]
    }
   ],
   "source": [
    "# Elektrischer Strom\n",
    "U = 230.37   # V\n",
    "R = 14.38    # Ohm\n",
    "I = U / R    # A\n",
    "print('Strom:', '{:.2f}'.format(I), 'A')"
   ]
  },
  {
   "cell_type": "code",
   "execution_count": 38,
   "metadata": {},
   "outputs": [
    {
     "name": "stdout",
     "output_type": "stream",
     "text": [
      "Widerstand: 14.38 Ohm\n"
     ]
    }
   ],
   "source": [
    "# Elektrischer Widerstand\n",
    "I = 16.02   # A\n",
    "U = 230.37  # V\n",
    "R = U / I   # OIhm\n",
    "print('Widerstand:', '{:.2f}'.format(R), 'Ohm')"
   ]
  },
  {
   "cell_type": "code",
   "execution_count": 39,
   "metadata": {},
   "outputs": [
    {
     "name": "stdout",
     "output_type": "stream",
     "text": [
      "Widerstand Leiter: 0.00125 Ohm\n"
     ]
    }
   ],
   "source": [
    "# Elektrischer Leiter\n",
    "A = 70            # mm^2\n",
    "l = 5             # m\n",
    "rho = 0.0175      # Ohm * mm^2 / m\n",
    "R = (rho * l) / A # Ohm\n",
    "print('Widerstand Leiter:', '{:.5f}'.format(R), 'Ohm')"
   ]
  },
  {
   "cell_type": "code",
   "execution_count": 40,
   "metadata": {},
   "outputs": [
    {
     "name": "stdout",
     "output_type": "stream",
     "text": [
      "Leiterquerschnitt: 49.00 mm²\n"
     ]
    }
   ],
   "source": [
    "# Kabelwahl\n",
    "l = 2                            # m\n",
    "rho = 0.0175                      # Ohm * mm^2 / m\n",
    "I = 700                           # A\n",
    "U = 100                           # V\n",
    "pU = 0.01                        # %\n",
    "A = (2 * l * rho * I) / (U * pU)  # Ohm\n",
    "print('Leiterquerschnitt:', '{:.2f}'.format(A), 'mm²')"
   ]
  },
  {
   "cell_type": "code",
   "execution_count": 41,
   "metadata": {},
   "outputs": [
    {
     "name": "stdout",
     "output_type": "stream",
     "text": [
      "Leistung: 70.00 kW\n"
     ]
    }
   ],
   "source": [
    "# Elektrische Leistung\n",
    "U = 100     # V\n",
    "I = 700     # A\n",
    "P = U * I / 1000   #kW\n",
    "print('Leistung:', '{:.2f}'.format(P), 'kW')"
   ]
  },
  {
   "cell_type": "markdown",
   "metadata": {},
   "source": [
    "### Mechanik"
   ]
  },
  {
   "cell_type": "code",
   "execution_count": 42,
   "metadata": {},
   "outputs": [
    {
     "name": "stdout",
     "output_type": "stream",
     "text": [
      "Drehmoment: 477.46 Nm\n"
     ]
    }
   ],
   "source": [
    "# Drehmoment\n",
    "P = 50000 # W\n",
    "n_min = 1000       # 1/min\n",
    "n_sec = n_min / 60 # 1/s\n",
    "omega = 2 * math.pi * n_sec # rad/s\n",
    "M = P/omega  # \n",
    "print('Drehmoment:', '{:.2f}'.format(M), 'Nm')"
   ]
  },
  {
   "cell_type": "code",
   "execution_count": 43,
   "metadata": {},
   "outputs": [
    {
     "name": "stdout",
     "output_type": "stream",
     "text": [
      "Geschwindigkeit: 20.00 km/h\n"
     ]
    }
   ],
   "source": [
    "# Geschwindigkeit\n",
    "s = 100 # km\n",
    "t = 5   # h\n",
    "v = s/t # km/h\n",
    "print('Geschwindigkeit:', '{:.2f}'.format(v), 'km/h')"
   ]
  },
  {
   "cell_type": "code",
   "execution_count": 46,
   "metadata": {},
   "outputs": [
    {
     "name": "stdout",
     "output_type": "stream",
     "text": [
      "Beschleunigung: 0.46 m/s²\n"
     ]
    }
   ],
   "source": [
    "# Beschleunigung\n",
    "v = 100   # km/h\n",
    "v = v/3.6 # m/s\n",
    "t = 1     # min\n",
    "t = 1*60  # s\n",
    "a = v/t   # m/s\n",
    "print('Beschleunigung:', '{:.2f}'.format(a), 'm/s²')"
   ]
  },
  {
   "cell_type": "code",
   "execution_count": 67,
   "metadata": {},
   "outputs": [
    {
     "name": "stdout",
     "output_type": "stream",
     "text": [
      "Beschleunigungskraft: 1620.37 N\n"
     ]
    }
   ],
   "source": [
    "# Beschleunigungskraft\n",
    "m = 3500    # kg\n",
    "a = 0.462962   # m/s^2\n",
    "F_a = m * a\n",
    "print('Beschleunigungskraft:', '{:.2f}'.format(F_a), 'N')"
   ]
  },
  {
   "cell_type": "code",
   "execution_count": 68,
   "metadata": {},
   "outputs": [
    {
     "name": "stdout",
     "output_type": "stream",
     "text": [
      "Strecke: 833.33 m\n"
     ]
    }
   ],
   "source": [
    "# Strecke\n",
    "v = 100   # km/h\n",
    "v = v/3.6 # m/s\n",
    "t = 1     # min\n",
    "t = 1*60  # s\n",
    "a = v/t   # m/s\n",
    "s = a*t**2/2\n",
    "print('Strecke:', '{:.2f}'.format(s), 'm')"
   ]
  },
  {
   "cell_type": "code",
   "execution_count": 48,
   "metadata": {},
   "outputs": [
    {
     "name": "stdout",
     "output_type": "stream",
     "text": [
      "Beschleunigungsarbeit: 1350308.64 Nm --> 0.38 kWh\n"
     ]
    }
   ],
   "source": [
    "# Beschleunigungsarbeit 1\n",
    "F_a = 1620.370370   # N\n",
    "s = 833.333333       # m\n",
    "W_Fa = F_a * s       # Nm \n",
    "W_Fa1 = W_Fa/3600000 # kWh\n",
    "print('Beschleunigungsarbeit:', '{:.2f}'.format(W_Fa), 'Nm','-->', '{:.2f}'.format(W_Fa1), 'kWh')"
   ]
  },
  {
   "cell_type": "code",
   "execution_count": 49,
   "metadata": {},
   "outputs": [
    {
     "name": "stdout",
     "output_type": "stream",
     "text": [
      "Beschleunigungsarbeit: 1350308.64 J --> 0.38 kWh\n"
     ]
    }
   ],
   "source": [
    "# Beschleunigungsarbeit 2\n",
    "m = 3500                  # kg\n",
    "v = 100                   # km/h\n",
    "v = v/3.6                 # m/s\n",
    "W_Fa2 = m*v**2/2          # Nm\n",
    "W_Fa3 = m*v**2/2/3600000  # kWh\n",
    "print('Beschleunigungsarbeit:', '{:.2f}'.format(W_Fa2), 'J','-->', '{:.2f}'.format(W_Fa3), 'kWh')"
   ]
  },
  {
   "cell_type": "code",
   "execution_count": 41,
   "metadata": {},
   "outputs": [
    {
     "name": "stdout",
     "output_type": "stream",
     "text": [
      "Rollreibungskraft: 1716.75 N\n"
     ]
    }
   ],
   "source": [
    "# Rollreibungskraft\n",
    "m = 3500          # kg\n",
    "g = 9.81          # m/s^2\n",
    "mu = 0.05         #\n",
    "F_R = m * g * mu   # N\n",
    "print('Rollreibungskraft:', '{:.2f}'.format(F_R), 'N')"
   ]
  },
  {
   "cell_type": "code",
   "execution_count": 35,
   "metadata": {},
   "outputs": [
    {
     "name": "stdout",
     "output_type": "stream",
     "text": [
      "Beschleunigung aus der Hanglage: 2.38 m/s^2\n"
     ]
    }
   ],
   "source": [
    "# Beschleunigung aus der Hanglage\n",
    "steigung = 25                    # %\n",
    "alpha = math.atan(steigung/100)  #\n",
    "g = 9.81                         # m/s^2\n",
    "a_ha = g * math.sin(alpha)\n",
    "print('Beschleunigung aus der Hanglage:', '{:.2f}'.format(a_ha), 'm/s^2')"
   ]
  },
  {
   "cell_type": "code",
   "execution_count": 76,
   "metadata": {},
   "outputs": [
    {
     "name": "stdout",
     "output_type": "stream",
     "text": [
      "Hangabtriebskraft: 8327.46 N\n"
     ]
    }
   ],
   "source": [
    "# Hangabtriebskraft\n",
    "m = 3500          # kg\n",
    "g = 9.81                         # m/s^2\n",
    "steigung = 25                    # %\n",
    "F_ha = m * g * math.sin(math.atan(steigung/100))   # N\n",
    "print('Hangabtriebskraft:', '{:.2f}'.format(F_ha), 'N')"
   ]
  },
  {
   "cell_type": "code",
   "execution_count": 50,
   "metadata": {},
   "outputs": [],
   "source": [
    "# Umgebung und Fahrzeug\n",
    "rho = 1.204  # kg/m^3\n",
    "c_w = 0.51   # VWT3 = 0.51, VWT5 = 0.35\n",
    "A = 3.17     # VWT3 = 3.17, VWT5 = 3.39  m^2\n",
    "v = np.arange(0.0, 161.0, 1)/3.6\n",
    "s = 100000 # Strecke in m"
   ]
  },
  {
   "cell_type": "code",
   "execution_count": 57,
   "metadata": {},
   "outputs": [
    {
     "data": {
      "image/png": "[encoded data removed]",
      "text/plain": [
       "<Figure size 1152x432 with 1 Axes>"
      ]
     },
     "metadata": {
      "needs_background": "light"
     },
     "output_type": "display_data"
    }
   ],
   "source": [
    "# Luftwiderstand als Kraft\n",
    "v_ges = 80\n",
    "F_Luft = 0.5 * c_w * rho * A * (v)**2  # F\n",
    "F_Luft_1 =0.5 * c_w * rho * A * (v_ges/3.6)**2\n",
    "\n",
    "\n",
    "\n",
    "# Data for plotting\n",
    "x_points = v*3.6\n",
    "y_points = F_Luft\n",
    "\n",
    "fig, axes = plt.subplots(nrows=1, ncols=1, figsize=(16,6), frameon=False)\n",
    "\n",
    "axes.plot([v_ges,v_ges], [0,F_Luft_1], linewidth=3)\n",
    "axes.plot([0,v_ges], [F_Luft_1,F_Luft_1], linewidth=3)\n",
    "axes.plot(x_points, y_points)\n",
    "axes.scatter(v_ges, F_Luft_1 , s=100)\n",
    "axes.set(xlabel='Geschwindigkeit v [km/h]', ylabel='Kraft F [N]')\n",
    "axes.grid()\n",
    "axes.set_xticks(range(int(min(x_points)),int(max(x_points))+1,10))\n",
    "axes.set_yticks(range(int(min(y_points)),int(max(y_points))+1,200))\n",
    "\n",
    "\n",
    "# Legend\n",
    "axes.legend(['{:.0f}'.format(v_ges) + ' km/h','{:.0f}'.format(F_Luft_1) + ' N'],\n",
    "           shadow=True, loc=(0.2, 0.6), handlelength=1.5, fontsize=16)\n",
    "\n",
    "fig.savefig(\"Geschwindigkeit_Kraft.png\", dpi=600)\n",
    "plt.show()"
   ]
  },
  {
   "cell_type": "code",
   "execution_count": 59,
   "metadata": {},
   "outputs": [
    {
     "data": {
      "image/png": "[encoded data removed]",
      "text/plain": [
       "<Figure size 1152x432 with 1 Axes>"
      ]
     },
     "metadata": {
      "needs_background": "light"
     },
     "output_type": "display_data"
    }
   ],
   "source": [
    "# Luftwiderstand als Arbeit\n",
    "W_Luft = 0.5 * c_w * rho * A * s * (v)**2  # F\n",
    "\n",
    "# Data for plotting\n",
    "x_points = v*3.6\n",
    "y_points = W_Luft/3600000\n",
    "\n",
    "fig, axes = plt.subplots(nrows=1, ncols=1, figsize=(16,6), frameon=False)\n",
    "axes.plot(x_points, y_points)\n",
    "\n",
    "axes.set(xlabel='Geschwindigkeit v [km/h]', ylabel='Arbeit W [kWh]')\n",
    "axes.grid()\n",
    "axes.set_xticks(range(int(min(x_points)),int(max(x_points))+1,10))\n",
    "axes.set_yticks(range(int(min(y_points)),int(max(y_points))+1,5))\n",
    "axes.set_ylim(int(min(y_points)),int(max(y_points)))\n",
    "axes.set_xlim(int(min(x_points)),int(max(x_points)))\n",
    "\n",
    "\n",
    "fig.savefig(\"Geschwindigkeit_Arbeit.png\", dpi=600)\n",
    "plt.show()"
   ]
  },
  {
   "cell_type": "code",
   "execution_count": 55,
   "metadata": {},
   "outputs": [
    {
     "data": {
      "image/png": "[encoded data removed]",
      "text/plain": [
       "<Figure size 1152x432 with 1 Axes>"
      ]
     },
     "metadata": {
      "needs_background": "light"
     },
     "output_type": "display_data"
    }
   ],
   "source": [
    "# Luftwiderstand als Leistung\n",
    "v_ges = 80\n",
    "P_Luft = 0.5 * c_w * rho * A * v * (v)**2  # W\n",
    "P_Luft_ges = (0.5 * c_w * rho * A * v_ges/3.6 * (v_ges/3.6)**2)/1000  # W\n",
    "\n",
    "# Data for plotting\n",
    "x_points = v*3.6\n",
    "y_points = P_Luft/1000\n",
    "\n",
    "fig, axes = plt.subplots(nrows=1, ncols=1, figsize=(16,6), frameon=False)\n",
    "axes.plot([v_ges,v_ges], [0,P_Luft_ges], linewidth=3)\n",
    "axes.plot([0,v_ges], [P_Luft_ges,P_Luft_ges], linewidth=3)\n",
    "axes.plot(x_points, y_points)\n",
    "axes.scatter(v_ges, P_Luft_ges , s=100)\n",
    "axes.set(xlabel='Geschwindigkeit v [km/h]', ylabel='Leistung P [kW]')\n",
    "axes.grid()\n",
    "axes.set_xticks(range(int(min(x_points)),int(max(x_points))+1,10))\n",
    "axes.set_yticks(range(int(min(y_points)),int(max(y_points))+1,10))\n",
    "\n",
    "# Legend\n",
    "axes.legend(['{:.0f}'.format(v_ges) + ' km/h','{:.0f}'.format(P_Luft_ges) + ' kW'],\n",
    "           shadow=True, loc=(0.2, 0.6), handlelength=1.5, fontsize=16)\n",
    "\n",
    "fig.savefig(\"Geschwindigkeit_Leistung.png\", dpi=600)\n",
    "plt.show()"
   ]
  },
  {
   "cell_type": "markdown",
   "metadata": {},
   "source": [
    "### Elektrochemie"
   ]
  },
  {
   "cell_type": "code",
   "execution_count": 62,
   "metadata": {},
   "outputs": [
    {
     "name": "stdout",
     "output_type": "stream",
     "text": [
      "Ladungsmenge: 1400.00 Ah\n"
     ]
    }
   ],
   "source": [
    "# Ladungsmenge\n",
    "t = 2     # h\n",
    "I = 700   # A\n",
    "Q = I*t   # Ah\n",
    "print('Ladungsmenge:', '{:.2f}'.format(Q), 'Ah')"
   ]
  },
  {
   "cell_type": "code",
   "execution_count": 64,
   "metadata": {},
   "outputs": [
    {
     "name": "stdout",
     "output_type": "stream",
     "text": [
      "Maximalanzahl Akkumulatormodule: 16\n",
      "Mindestanzahl Akkumulatormodule: 11\n"
     ]
    }
   ],
   "source": [
    "# Schaltungsarten\n",
    "U_amin = 18.6     # V\n",
    "U_amax = 24.9     # V\n",
    "U_wmin = 200      # V\n",
    "U_wmax = 400      # V\n",
    "n_max = U_wmax / U_amax\n",
    "n_min = U_wmin / U_amin\n",
    "print('Maximalanzahl Akkumulatormodule in Serie:', '{:.0f}'.format(n_max))\n",
    "print('Mindestanzahl Akkumulatormodule in Serie:', '{:.0f}'.format(n_min))"
   ]
  }
 ],
 "metadata": {
  "kernelspec": {
   "display_name": "Python 3",
   "language": "python",
   "name": "python3"
  },
  "language_info": {
   "codemirror_mode": {
    "name": "ipython",
    "version": 3
   },
   "file_extension": ".py",
   "mimetype": "text/x-python",
   "name": "python",
   "nbconvert_exporter": "python",
   "pygments_lexer": "ipython3",
   "version": "3.9.1"
  }
 },
 "nbformat": 4,
 "nbformat_minor": 4
}
